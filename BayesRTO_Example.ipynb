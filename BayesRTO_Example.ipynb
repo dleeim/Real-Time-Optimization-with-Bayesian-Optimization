{
 "cells": [
  {
   "cell_type": "markdown",
   "metadata": {},
   "source": [
    "# Introduction\n",
    "## Content:\n",
    "- Aim: To show how to use BayesRTO.py\n",
    "1. Apply BayesRTO on Benoit Problem"
   ]
  },
  {
   "cell_type": "code",
   "execution_count": 4,
   "metadata": {},
   "outputs": [],
   "source": [
    "import numpy as np\n",
    "import random\n",
    "from scipy.optimize import minimize\n",
    "import matplotlib.pyplot as plt\n",
    "import BayesRTO\n",
    "import Benoit_Problem"
   ]
  },
  {
   "cell_type": "markdown",
   "metadata": {},
   "source": [
    "# 1. Benoit Problem\n",
    "## A. Without Uncertainty"
   ]
  },
  {
   "cell_type": "code",
   "execution_count": 5,
   "metadata": {},
   "outputs": [
    {
     "name": "stdout",
     "output_type": "stream",
     "text": [
      "u_new: [ 3.00562907 -0.89404503]\n",
      "d_new: [-0.99437093  0.10595497]\n",
      "mag d_new: 1.0000000000265565\n",
      "u_new: [ 2.15956118 -1.42712019]\n",
      "d_new: [-0.84606789 -0.53307515]\n",
      "mag d_new: 0.9999999999963575\n",
      "u_new: [ 1.80605383 -2.36255194]\n",
      "d_new: [-0.35350734 -0.93543175]\n",
      "mag d_new: 1.0000000000000007\n",
      "u_new: [ 1.52124686 -2.89970357]\n",
      "d_new: [-0.28480698 -0.53715164]\n",
      "mag d_new: 0.6079859331992975\n",
      "u_new: [ 1.52760343 -2.87813046]\n",
      "d_new: [0.00635658 0.02157311]\n",
      "mag d_new: 0.02249011447653471\n",
      "u_new: [ 1.52760344 -2.87813046]\n",
      "d_new: [1.33650007e-09 4.64082133e-09]\n",
      "mag d_new: 4.829436310542298e-09\n",
      "u_new: [ 1.52760344 -2.87813046]\n",
      "d_new: [-2.69483093e-12  1.02864554e-15]\n",
      "mag d_new: 2.694831121611505e-12\n",
      "u_new: [ 1.52760334 -2.87813014]\n",
      "d_new: [-9.13921412e-08  3.21492682e-07]\n",
      "mag d_new: 3.342305609381544e-07\n",
      "u_new: [ 1.52760497 -2.87814211]\n",
      "d_new: [ 1.62615372e-06 -1.19757903e-05]\n",
      "mag d_new: 1.2085691129511082e-05\n",
      "u_new: [ 1.52760497 -2.87814211]\n",
      "d_new: [ 4.17024988e-10 -7.11501074e-11]\n",
      "mag d_new: 4.2305103494117134e-10\n"
     ]
    }
   ],
   "source": [
    "###################################################################################\n",
    "###########################______GP Initialization______###########################\n",
    "###################################################################################\n",
    "'''\n",
    "Description:\n",
    "    It does as follows:\n",
    "    1. Collects samples\n",
    "    2. Find optimal parameters\n",
    "    3. Initializes GP.\n",
    "Arguments:\n",
    "    `n_sample`      : number of samples to collect your input for GP initialization\n",
    "    `u_0`           : initial input u (center point of area where you collect  of samples)\n",
    "    `theta_0`       : initial parameter values for model [parameters for obj fun, parameters for constraint 1, parameters for constraint 2,...]\n",
    "    `r`             : initial radius of trust region\n",
    "    `plant_system`  : array with elements of plant objective function and constraints\n",
    "    `model`         : array with elements of model objective function and constraints\n",
    "Returns:\n",
    "    GP_m            : a Gaussian Process Model\n",
    "'''\n",
    "BRTO = BayesRTO.Bayesian_RTO()\n",
    "np.random.seed(42)\n",
    "random.seed(42)\n",
    "\n",
    "n_sample            = 4\n",
    "u_0                 = np.array([4.,-1.])\n",
    "theta_0             = np.array([1.,1.,1.,1.])\n",
    "r                   = 1\n",
    "plant_system        = [Benoit_Problem.Benoit_System_1,\n",
    "                       Benoit_Problem.con1_system]\n",
    "model               = [Benoit_Problem.Benoit_Model_1,\n",
    "                       Benoit_Problem.con1_Model]\n",
    "\n",
    "theta,GP_m = BRTO.GP_Initialization(n_sample,u_0,theta_0,r,plant_system,model)\n",
    "\n",
    "#######################################################################################\n",
    "###########################______Bayesian Optimization______###########################\n",
    "#######################################################################################\n",
    "'''\n",
    "'''\n",
    "n_iter = 10\n",
    "for i in range(n_iter):\n",
    "\n",
    "    # New observation\n",
    "    d_new = BRTO.observation_trustregion(r,u_0,theta,GP_m)\n",
    "    # Collect data on new observation\n",
    "    u_new = u_0 + d_new\n",
    "    modifier = BRTO.modifier_calc(theta,u_new)\n",
    "\n",
    "    # Improve GP model using collected data on new observation\n",
    "    GP_m.add_sample(u_new,modifier)\n",
    "\n",
    "    # for next iter + data collection\n",
    "    u_0 = u_new\n",
    "\n",
    "    print(f\"u_new: {u_new}\")\n",
    "    print(f\"d_new: {d_new}\")\n",
    "    print(f\"mag d_new: {np.linalg.norm(d_new)}\")"
   ]
  },
  {
   "cell_type": "markdown",
   "metadata": {},
   "source": [
    "## Can find following informations"
   ]
  },
  {
   "cell_type": "code",
   "execution_count": 6,
   "metadata": {},
   "outputs": [
    {
     "name": "stdout",
     "output_type": "stream",
     "text": [
      "Initial Input Sample: \n",
      " [[ 5.54070743 -1.42886806]\n",
      " [ 4.12378102 -0.7089308 ]\n",
      " [ 3.25831462 -1.74163338]\n",
      " [ 4.84986638 -0.58699868]]\n",
      "6.220652775188762\n",
      "5.626794223407547\n"
     ]
    }
   ],
   "source": [
    "# 1. Input samples initially created by number n_sample(argument) and used to initialize GP\n",
    "print(f\"Initial Input Sample: \\n {BRTO.input_sample}\")\n",
    "print(model[0](theta,u_new,np.array([0,0]),GP_m))\n",
    "print(model[0](theta,u_new,np.array([-0.5,+0.1]),GP_m))"
   ]
  }
 ],
 "metadata": {
  "kernelspec": {
   "display_name": "myenv",
   "language": "python",
   "name": "python3"
  },
  "language_info": {
   "codemirror_mode": {
    "name": "ipython",
    "version": 3
   },
   "file_extension": ".py",
   "mimetype": "text/x-python",
   "name": "python",
   "nbconvert_exporter": "python",
   "pygments_lexer": "ipython3",
   "version": "3.11.5"
  }
 },
 "nbformat": 4,
 "nbformat_minor": 2
}
