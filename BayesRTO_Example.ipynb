{
 "cells": [
  {
   "cell_type": "markdown",
   "metadata": {},
   "source": [
    "# Introduction\n",
    "## Content:\n",
    "- Aim: To show how to use BayesRTO.py\n",
    "1. Apply BayesRTO on Benoit Problem"
   ]
  },
  {
   "cell_type": "code",
   "execution_count": 1,
   "metadata": {},
   "outputs": [],
   "source": [
    "import numpy as np\n",
    "import random\n",
    "from scipy.optimize import minimize\n",
    "import matplotlib.pyplot as plt\n",
    "import BayesRTO\n",
    "import Benoit_Problem"
   ]
  },
  {
   "cell_type": "markdown",
   "metadata": {},
   "source": [
    "# 1. Benoit Problem\n",
    "## A. Without Uncertainty"
   ]
  },
  {
   "cell_type": "code",
   "execution_count": 2,
   "metadata": {},
   "outputs": [
    {
     "name": "stdout",
     "output_type": "stream",
     "text": [
      "[ 3.00562907 -0.89404503]\n",
      "[ 2.15956118 -1.42712019]\n",
      "[ 1.80605383 -2.36255194]\n",
      "[ 1.52124686 -2.89970357]\n",
      "[ 1.52760343 -2.87813046]\n",
      "[ 1.52760344 -2.87813046]\n",
      "[ 1.52760344 -2.87813046]\n",
      "[ 1.52760334 -2.87813014]\n",
      "[ 1.52760497 -2.87814211]\n",
      "[ 1.52760497 -2.87814211]\n"
     ]
    }
   ],
   "source": [
    "###################################################################################\n",
    "###########################______GP Initialization______###########################\n",
    "###################################################################################\n",
    "'''\n",
    "Description:\n",
    "    It does as follows:\n",
    "    1. Collects samples\n",
    "    2. Find optimal parameters\n",
    "    3. Initializes GP.\n",
    "Arguments:\n",
    "    `n_sample`      : number of samples to collect your input for GP initialization\n",
    "    `u_0`           : initial input u (center point of area where you collect  of samples)\n",
    "    `theta_0`       : initial parameter values for model [parameters for obj fun, parameters for constraint 1, parameters for constraint 2,...]\n",
    "    `r`             : initial radius of trust region\n",
    "    `plant_system`  : array with elements of plant objective function and constraints\n",
    "    `model`         : array with elements of model objective function and constraints\n",
    "Returns:\n",
    "    GP_m            : a Gaussian Process Model\n",
    "'''\n",
    "BRTO = BayesRTO.Bayesian_RTO()\n",
    "np.random.seed(42)\n",
    "random.seed(42)\n",
    "\n",
    "n_sample            = 4\n",
    "u_0                 = np.array([4.,-1.])\n",
    "theta_0             = np.array([1.,1.,1.,1.])\n",
    "r                   = 1\n",
    "plant_system        = [Benoit_Problem.Benoit_System_1,\n",
    "                       Benoit_Problem.con1_system]\n",
    "model               = [Benoit_Problem.Benoit_Model_1,\n",
    "                       Benoit_Problem.con1_Model]\n",
    "\n",
    "theta,GP_m = BRTO.GP_Initialization(n_sample,u_0,theta_0,r,plant_system,model)\n",
    "\n",
    "#######################################################################################\n",
    "###########################______Bayesian Optimization______###########################\n",
    "#######################################################################################\n",
    "'''\n",
    "'''\n",
    "n_iter = 10\n",
    "for i in range(n_iter):\n",
    "    # New observation\n",
    "    d_new = BRTO.observation_trustregion(r,u_0,theta,GP_m)\n",
    "    \n",
    "    # Collect data on new observation\n",
    "    u_new = u_0 + d_new\n",
    "    modifier = BRTO.modifier_calc(theta,u_new)\n",
    "\n",
    "    # Improve GP model using collected data on new observation\n",
    "    GP_m.add_sample(u_new,modifier)\n",
    "\n",
    "    # for next iter + data collection\n",
    "    u_0 = u_new\n",
    "    print(u_new)"
   ]
  },
  {
   "cell_type": "markdown",
   "metadata": {},
   "source": [
    "## Can find following informations"
   ]
  },
  {
   "cell_type": "code",
   "execution_count": 3,
   "metadata": {},
   "outputs": [
    {
     "name": "stdout",
     "output_type": "stream",
     "text": [
      "Initial Input Sample: \n",
      " [[ 5.54070743 -1.42886806]\n",
      " [ 4.12378102 -0.7089308 ]\n",
      " [ 3.25831462 -1.74163338]\n",
      " [ 4.84986638 -0.58699868]]\n"
     ]
    },
    {
     "ename": "AttributeError",
     "evalue": "'Bayesian_RTO' object has no attribute 'theta'",
     "output_type": "error",
     "traceback": [
      "\u001b[0;31m---------------------------------------------------------------------------\u001b[0m",
      "\u001b[0;31mAttributeError\u001b[0m                            Traceback (most recent call last)",
      "Cell \u001b[0;32mIn[3], line 4\u001b[0m\n\u001b[1;32m      2\u001b[0m \u001b[38;5;28mprint\u001b[39m(\u001b[38;5;124mf\u001b[39m\u001b[38;5;124m\"\u001b[39m\u001b[38;5;124mInitial Input Sample: \u001b[39m\u001b[38;5;130;01m\\n\u001b[39;00m\u001b[38;5;124m \u001b[39m\u001b[38;5;132;01m{\u001b[39;00mBRTO\u001b[38;5;241m.\u001b[39minput_sample\u001b[38;5;132;01m}\u001b[39;00m\u001b[38;5;124m\"\u001b[39m)\n\u001b[1;32m      3\u001b[0m \u001b[38;5;66;03m# 2. Parameter theta for model created to make minimal difference between plant system and model before doing BayesOpt. \u001b[39;00m\n\u001b[0;32m----> 4\u001b[0m \u001b[38;5;28mprint\u001b[39m(\u001b[38;5;124mf\u001b[39m\u001b[38;5;124m\"\u001b[39m\u001b[38;5;124mParameter for model: \u001b[39m\u001b[38;5;132;01m{\u001b[39;00mBRTO\u001b[38;5;241m.\u001b[39mtheta\u001b[38;5;132;01m}\u001b[39;00m\u001b[38;5;124m\"\u001b[39m)\n",
      "\u001b[0;31mAttributeError\u001b[0m: 'Bayesian_RTO' object has no attribute 'theta'"
     ]
    }
   ],
   "source": [
    "# 1. Input samples initially created by number n_sample(argument) and used to initialize GP\n",
    "print(f\"Initial Input Sample: \\n {BRTO.input_sample}\")\n",
    "# 2. Parameter theta for model created to make minimal difference between plant system and model before doing BayesOpt. \n",
    "print(f\"Parameter for model: {BRTO.theta}\")"
   ]
  }
 ],
 "metadata": {
  "kernelspec": {
   "display_name": "myenv",
   "language": "python",
   "name": "python3"
  },
  "language_info": {
   "codemirror_mode": {
    "name": "ipython",
    "version": 3
   },
   "file_extension": ".py",
   "mimetype": "text/x-python",
   "name": "python",
   "nbconvert_exporter": "python",
   "pygments_lexer": "ipython3",
   "version": "3.11.5"
  }
 },
 "nbformat": 4,
 "nbformat_minor": 2
}
