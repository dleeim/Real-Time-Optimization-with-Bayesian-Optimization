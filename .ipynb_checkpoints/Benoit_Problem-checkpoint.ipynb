{
 "cells": [
  {
   "cell_type": "markdown",
   "metadata": {},
   "source": [
    "# Benoit's Problem with various RTO Algorithms"
   ]
  },
  {
   "cell_type": "code",
   "execution_count": 54,
   "metadata": {},
   "outputs": [],
   "source": [
    "import numpy as np\n",
    "from scipy.optimize import minimize"
   ]
  },
  {
   "cell_type": "markdown",
   "metadata": {},
   "source": [
    "## Benoit Model (Modified Version) for Real Time Optimization without constraint"
   ]
  },
  {
   "cell_type": "code",
   "execution_count": 55,
   "metadata": {},
   "outputs": [],
   "source": [
    "# Plant Model \n",
    "def Benoit_Model(u,p):\n",
    "    f = p[0] * u[0] ** 2 + p[1] * u[1] ** 2\n",
    "    return -f\n",
    "\n",
    "\n",
    "def con1_model(u):\n",
    "    g1 = 1. - u[0] + u[1] ** 2\n",
    "    return g1\n",
    "\n",
    "# Actual Plant System\n",
    "def Benoit_System_1(u):\n",
    "    f = u[0] ** 2 + u[1] ** 2 + u[0] * u[1] + np.random.normal(0., np.sqrt(1e-3))\n",
    "    return f\n",
    "\n",
    "def Benoit_System_2(u):\n",
    "    f = u[0] ** 2 + u[1] ** 2 + (1 - u[0] * u[1])**2 + np.random.normal(0., np.sqrt(1e-3))\n",
    "    return f\n",
    "\n",
    "\n",
    "def con1_system(u):\n",
    "    g1 = 1. - u[0] + u[1] ** 2 + 2. * u[1] - 2. + np.random.normal(0., np.sqrt(1e-3))\n",
    "    return -g1\n",
    "\n",
    "\n",
    "def con1_system_tight(u):\n",
    "    g1 = 1. - u[0] + u[1] ** 2 + 2. * u[1] + np.random.normal(0., np.sqrt(1e-3))\n",
    "    return -g1\n",
    "\n",
    "\n",
    "def Benoit_System_noiseless_1(u):\n",
    "    f = u[0] ** 2 + u[1] ** 2 + u[0] * u[1]  # + np.random.normal(0., np.sqrt(1e-3))\n",
    "    return f\n",
    "\n",
    "def Benoit_System_noiseless_2(u):\n",
    "    f = u[0] ** 2 + u[1] ** 2 + (1 - u[0] * u[1])**2  # + np.random.normal(0., np.sqrt(1e-3))\n",
    "    return f\n",
    "\n",
    "\n",
    "def con1_system_noiseless(u):\n",
    "    g1 = 1. - u[0] + u[1] ** 2 + 2. * u[1] - 2.  # + np.random.normal(0., np.sqrt(1e-3))\n",
    "    return -g1\n",
    "\n",
    "\n",
    "def con1_system_tight_noiseless(u):\n",
    "    g1 = 1. - u[0] + u[1] ** 2 + 2. * u[1]  # + np.random.normal(0., np.sqrt(1e-3))\n",
    "    return -g1\n"
   ]
  },
  {
   "cell_type": "markdown",
   "metadata": {},
   "source": [
    "## 1. Model Adaptation"
   ]
  },
  {
   "cell_type": "markdown",
   "metadata": {},
   "source": [
    "## A. Optimization on cost function\n",
    "\n",
    "Optimization algorithm on cost function to find optimized input u given parameter"
   ]
  },
  {
   "cell_type": "code",
   "execution_count": 56,
   "metadata": {},
   "outputs": [],
   "source": [
    "# Optimization on cost function\n",
    "def cost_optimize(p,u0):\n",
    "    con = ({'type': 'eq', 'fun': con1_model}) # 1 >= u[0] - u[1] ** 2\n",
    "    result = minimize(Benoit_Model,\n",
    "                      u0,\n",
    "                      constraints= con,\n",
    "                      tol = 1e-5,\n",
    "                      args= (p))\n",
    "    \n",
    "    return result.x,result.fun"
   ]
  },
  {
   "cell_type": "code",
   "execution_count": 57,
   "metadata": {},
   "outputs": [
    {
     "name": "stdout",
     "output_type": "stream",
     "text": [
      "optimal input: [ 1.00000000e+00 -7.45058082e-09], optimal output: 0.5\n"
     ]
    }
   ],
   "source": [
    "# Test\n",
    "u0 = [0,0] # Initial guess for optimization algorithm\n",
    "p = [0.5,0.5]\n",
    "u,fun = cost_optimize(p,u0)\n",
    "print(f\"optimal input: {u}, optimal output: {-fun}\")"
   ]
  },
  {
   "cell_type": "markdown",
   "metadata": {},
   "source": [
    "## B. Model Adaptation\n",
    "\n",
    "We try to minimize difference between output of an actual plant and output of a model. \n",
    "\n",
    "The difference is measured by SSE (Sum of Squared Error), which is used for cost function to be minimized"
   ]
  },
  {
   "cell_type": "code",
   "execution_count": 58,
   "metadata": {},
   "outputs": [],
   "source": [
    "def SSE(theta,u,func):\n",
    "\n",
    "    y_p = func(u)\n",
    "    y = Benoit_Model(u=u,p=theta)\n",
    "    return (y_p - (-y))**2\n",
    "    \n",
    "# Model Adaptation (Optimization of Parameters)\n",
    "def SSE_optimize(func,theta0,u):\n",
    "\n",
    "    result = minimize(SSE,\n",
    "                      theta0,\n",
    "                      tol = 1e-5,\n",
    "                      args= (u,func))\n",
    "    \n",
    "    return result.x,result.fun"
   ]
  },
  {
   "cell_type": "code",
   "execution_count": 59,
   "metadata": {},
   "outputs": [
    {
     "name": "stdout",
     "output_type": "stream",
     "text": [
      "<class 'numpy.ndarray'>\n",
      "optimal input: [1.5 1.5], optimal output: 5.0871902670073115e-17\n"
     ]
    }
   ],
   "source": [
    "# test\n",
    "theta,fun = SSE_optimize(func = Benoit_System_noiseless_1,\n",
    "                     theta0 = [1,1],\n",
    "                     u=[1,1])\n",
    "\n",
    "\n",
    "print(f\"optimal input: {theta}, optimal output: {fun}\")"
   ]
  },
  {
   "cell_type": "markdown",
   "metadata": {},
   "source": [
    "## C. Overall Algorithm"
   ]
  },
  {
   "cell_type": "code",
   "execution_count": 64,
   "metadata": {},
   "outputs": [
    {
     "name": "stdout",
     "output_type": "stream",
     "text": [
      "-0.0\n",
      "optimal input: [ 1.00000000e+00 -1.49011614e-08]\n",
      "optimal parameter: [0.99999998 0.        ]\n",
      "-0.999999977648042\n",
      "optimal input: [ 1.00000000e+00 -1.49011614e-08]\n",
      "optimal parameter: [0.99999998 0.        ]\n",
      "-0.999999977648042\n",
      "optimal input: [ 1.00000000e+00 -1.49011614e-08]\n",
      "optimal parameter: [0.99999998 0.        ]\n",
      "-0.999999977648042\n",
      "optimal input: [ 1.00000000e+00 -1.49011614e-08]\n",
      "optimal parameter: [0.99999998 0.        ]\n",
      "-0.999999977648042\n",
      "optimal input: [ 1.00000000e+00 -1.49011614e-08]\n",
      "optimal parameter: [0.99999998 0.        ]\n"
     ]
    }
   ],
   "source": [
    "# Initial Guess \n",
    "thetak = [0,0]\n",
    "uk = [0,0]\n",
    "\n",
    "# print(f\"optimal input: {uk}\")\n",
    "# print(type(uk[0]))\n",
    "\n",
    "for i in range(5):\n",
    "    \n",
    "    u,cost = cost_optimize(thetak,uk)\n",
    "    uk = u\n",
    "    print(cost)\n",
    "    print(f\"optimal input: {uk}\")\n",
    "    \n",
    "    theta,output = SSE_optimize(func = Benoit_System_noiseless_1,\n",
    "                        theta0 = thetak,\n",
    "                        u=uk)\n",
    "    thetak = theta\n",
    "    \n",
    "    print(f\"optimal parameter: {thetak}\")"
   ]
  }
 ],
 "metadata": {
  "kernelspec": {
   "display_name": "Python 3 (ipykernel)",
   "language": "python",
   "name": "python3"
  },
  "language_info": {
   "codemirror_mode": {
    "name": "ipython",
    "version": 3
   },
   "file_extension": ".py",
   "mimetype": "text/x-python",
   "name": "python",
   "nbconvert_exporter": "python",
   "pygments_lexer": "ipython3",
   "version": "3.11.3"
  }
 },
 "nbformat": 4,
 "nbformat_minor": 2
}
