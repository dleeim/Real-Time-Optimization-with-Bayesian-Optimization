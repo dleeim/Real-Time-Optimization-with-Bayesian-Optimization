{
 "cells": [
  {
   "cell_type": "code",
   "execution_count": 355,
   "metadata": {},
   "outputs": [],
   "source": [
    "import numpy as np\n",
    "from scipy.optimize import minimize\n",
    "import matplotlib.pyplot as plt\n",
    "import random\n",
    "import BayesRTO\n",
    "import Benoit_Problem"
   ]
  },
  {
   "cell_type": "markdown",
   "metadata": {},
   "source": [
    "# 0. Data Manipulation\n",
    "Use ball sampling to sample data to train gaussian process for bayesian optimization. The data is the WLS(weighted least square) between model and actual plant system."
   ]
  },
  {
   "cell_type": "code",
   "execution_count": 356,
   "metadata": {},
   "outputs": [],
   "source": [
    "def Ball_sampling(ndim ,r_i) -> float:\n",
    "    '''\n",
    "    Description:\n",
    "        This function samples randomly at (0,0) within a ball of radius r_i.\n",
    "        By adding sampled point onto initial point (u1,u2) you will get \n",
    "        randomly sampled points around (u1,u2)\n",
    "\n",
    "    Arguments:\n",
    "        ndim: no of dimensions required for sampled point\n",
    "        r_i: radius from (0,0) of circle area for sampling\n",
    "\n",
    "    Returns: \n",
    "        d_init: sampled distances from (0,0)\n",
    "    '''\n",
    "    u      = np.random.normal(0,1,ndim)  \n",
    "    norm   = np.sum(u**2)**(0.5)\n",
    "    r      = random.random()**(1.0/ndim)\n",
    "    d_init = r*u/norm*r_i*2      \n",
    "\n",
    "    return d_init\n",
    "\n",
    "def Ball_sampling(ndim ,r_i) -> float:\n",
    "    '''\n",
    "    Description:\n",
    "        Same as above function, except that d_init = u/norm only \n",
    "    '''\n",
    "    u      = np.random.normal(0,1,ndim)  \n",
    "    norm   = np.sum(u**2)**(0.5)\n",
    "    d_init = u/norm*r_i     \n",
    "\n",
    "    return d_init\n",
    "\n",
    "def WLS(theta,U,plant_system:list,model:list) -> float:\n",
    "    '''\n",
    "    Description:\n",
    "        This function finds the sum of weighted least square between\n",
    "        plant system and model\n",
    "    \n",
    "    Argument: \n",
    "        theta:\n",
    "        U:\n",
    "        plant_system: \n",
    "        model:\n",
    "\n",
    "    Returns:\n",
    "        error: \n",
    "    '''\n",
    "    n_s = U.shape[0]\n",
    "    error = 0\n",
    "\n",
    "    for i in range(n_s):\n",
    "        for j in range(len(plant_system)):\n",
    "            error += (plant_system[j][U[i,:]] - model[j][theta,U[i,:]])/np.abs(plant_system(U[i,:]))\n",
    "\n",
    "    return error    "
   ]
  },
  {
   "cell_type": "code",
   "execution_count": 357,
   "metadata": {},
   "outputs": [
    {
     "name": "stdout",
     "output_type": "stream",
     "text": [
      "[ 3.29982488 -0.94404382 -1.07785505]\n",
      "[ 0.7653976  -0.53203754  0.3620809 ]\n",
      "0.2794989857043589\n"
     ]
    }
   ],
   "source": [
    "# Test Case\n",
    "theta = [1,1,1,1]\n",
    "u = [4,-1]\n",
    "\n",
    "\n",
    "\n",
    "# plant_system = [Benoit_Problem.Benoit_System_1(u)\n",
    "#                 ,Benoit_Problem.con1_system(u)]\n",
    "\n",
    "# model = [Benoit_Problem.Benoit_Model_1(theta,u),\n",
    "#          Benoit_Problem.con1_Model(theta,u)]\n",
    "\n",
    "# error = WLS(theta,U,plant_system,model)\n"
   ]
  }
 ],
 "metadata": {
  "kernelspec": {
   "display_name": "myenv",
   "language": "python",
   "name": "python3"
  },
  "language_info": {
   "codemirror_mode": {
    "name": "ipython",
    "version": 3
   },
   "file_extension": ".py",
   "mimetype": "text/x-python",
   "name": "python",
   "nbconvert_exporter": "python",
   "pygments_lexer": "ipython3",
   "version": "3.11.5"
  }
 },
 "nbformat": 4,
 "nbformat_minor": 2
}
