{
 "cells": [
  {
   "cell_type": "code",
   "execution_count": 4,
   "metadata": {},
   "outputs": [],
   "source": [
    "import numpy as np\n",
    "from scipy.optimize import approx_fprime"
   ]
  },
  {
   "cell_type": "markdown",
   "metadata": {},
   "source": [
    "# Problem Specification"
   ]
  },
  {
   "cell_type": "markdown",
   "metadata": {},
   "source": [
    "Refer to Paper \" Real-time optimization meets Bayesian optimization and derivative-free optimization: A tale of modifier adaptation\" Section 4 Case Studies Sub section 4.1 Williams-Otto benchmark problem"
   ]
  },
  {
   "cell_type": "markdown",
   "metadata": {},
   "source": [
    "## 1. Static Plant\n",
    "\n",
    "A plant undergoes reactions:\n",
    "- There are 3 reactions\n",
    "- A,B are the reactants\n",
    "- C is a intermediate component\n",
    "- P is a desired product\n",
    "- E,G are the by-products\n",
    "\n",
    "We want to manipulate feedrate of B and the reactor temperature of the reactor\n",
    "\n",
    "We want to measure under certain flowrate of A and B as an input u: \n",
    "- mass fractions of P and E for cost functions\n",
    "- mass fractions of A and G for constraints\n"
   ]
  },
  {
   "cell_type": "code",
   "execution_count": 7,
   "metadata": {},
   "outputs": [],
   "source": [
    "def cstr_p(x,t,u):\n",
    "\n",
    "    #__Inputs__\n",
    "    F_B = u[0] # Flowrate of component B\n",
    "    T_r = u[1] # Temperature of the reactor\n",
    "\n",
    "    #__States__\n",
    "    C_A = x[0] # Concentration of component A\n",
    "    C_B = x[1]\n",
    "    C_C = x[2]\n",
    "    C_P = x[3]\n",
    "    C_E = x[4]\n",
    "    C_G = x[5]\n",
    "\n",
    "    #__Process Parameters__\n",
    "    Ea1 = 6666.7\n",
    "    Ea2 = 8333.3\n",
    "    Ea3 = 11111\n",
    "    F_A = 1.8275\n",
    "    np1 = 1.6599 * 10e6 # rate constant coefficient\n",
    "    np2 = 7.2117 * 10e8\n",
    "    np3 = 2.6742 * 10e12\n",
    "\n",
    "    #__Equations__\n",
    "    k1 = np1*np.exp(-Ea1/(T_r+273.15))\n",
    "    k2 = np2*np.exp(-Ea2/(T_r+273.15))\n",
    "    k3 = np3*np.exp(-Ea3/(T_r+273.15))\n",
    "\n",
    "    r1 = k1*C_A*C_B\n",
    "    r2 = k2*C_B*C_C\n",
    "    r3 = k3*C_P*C_C\n",
    "\n",
    "    dC_Adt = -r1\n",
    "    dC_Bdt = -r1-r2\n",
    "    dC_Cdt = r1-r2-r3\n",
    "    dC_Pdt = r2-r3\n",
    "    dC_Edt = r2\n",
    "    dC_Gdt = r3\n",
    "\n",
    "    #__xdot__\n",
    "    xdot = np.zeros(6)\n",
    "    xdot[0] = dC_Adt\n",
    "    xdot[1] = dC_Bdt\n",
    "    xdot[2] = dC_Cdt\n",
    "    xdot[3] = dC_Pdt\n",
    "    xdot[4] = dC_Edt\n",
    "    xdot[5] = dC_Gdt\n",
    "\n",
    "    return xdot"
   ]
  },
  {
   "cell_type": "markdown",
   "metadata": {},
   "source": [
    "## 2. Plant Model\n",
    "\n",
    "The model have similar but not the same model:\n",
    "- There are 3 reactions\n",
    "- A,B are reactants\n",
    "- P is product \n",
    "- G is a byproduct\n",
    "- There is no intermidiate component C\n",
    "\n",
    "The model has parameters:\n",
    "- n is a model parameter for reaction rate constant coefficient\n",
    "- v is a model parameter for activation energy\n",
    "\n",
    "We want to manipulate feedrate of B and the reactor temperature of the reactor\n",
    "\n",
    "We want to measure under certain flowrate of A and B as an input u: \n",
    "- mass fractions of P and E for cost functions\n",
    "- mass fractions of A and G for constraints"
   ]
  },
  {
   "cell_type": "code",
   "execution_count": 8,
   "metadata": {},
   "outputs": [],
   "source": [
    "def cstr_m(x,t,u,theta):\n",
    "\n",
    "    #__Inputs__\n",
    "    F_B = u[0] # Flowrate of component B\n",
    "    T_r = u[1] # Temperature of the reactor\n",
    "\n",
    "    #__States__\n",
    "    C_A = x[0] # Concentration of component A\n",
    "    C_B = x[1]\n",
    "    C_P = x[2]\n",
    "    C_E = x[3]\n",
    "    C_G = x[4]\n",
    "\n",
    "    #__Process Parameters__\n",
    "    n1 = theta[0]\n",
    "    n2 = theta[1]\n",
    "    v1 = theta[2]\n",
    "    v2 = theta[3]\n",
    "\n",
    "    #__Equations__\n",
    "    k1 = n1*np.exp(-v1/(T_r+273.15))\n",
    "    k2 = n2*np.exp(-v2/(T_r+273.15))\n",
    "\n",
    "    r1 = k1*C_A*C_B^2\n",
    "    r2 = k2*C_B*C_B*C_P\n",
    "\n",
    "    dC_Adt = -r1-r2\n",
    "    dC_Bdt = -2*r1-r2\n",
    "    dC_Pdt = r1-r2\n",
    "    dC_Edt = r1\n",
    "    dC_Gdt = r2\n",
    "\n",
    "    #__xdot__\n",
    "    xdot = np.zeros(5)\n",
    "    xdot[0] = dC_Adt\n",
    "    xdot[1] = dC_Bdt\n",
    "    xdot[2] = dC_Pdt\n",
    "    xdot[3] = dC_Edt\n",
    "    xdot[4] = dC_Gdt\n",
    "\n",
    "    return xdot"
   ]
  },
  {
   "cell_type": "code",
   "execution_count": null,
   "metadata": {},
   "outputs": [],
   "source": []
  }
 ],
 "metadata": {
  "kernelspec": {
   "display_name": "myenv",
   "language": "python",
   "name": "python3"
  },
  "language_info": {
   "codemirror_mode": {
    "name": "ipython",
    "version": 3
   },
   "file_extension": ".py",
   "mimetype": "text/x-python",
   "name": "python",
   "nbconvert_exporter": "python",
   "pygments_lexer": "ipython3",
   "version": "3.11.5"
  }
 },
 "nbformat": 4,
 "nbformat_minor": 2
}
