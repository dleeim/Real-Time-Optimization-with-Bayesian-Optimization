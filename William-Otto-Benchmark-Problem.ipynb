{
 "cells": [
  {
   "cell_type": "code",
   "execution_count": 123,
   "metadata": {},
   "outputs": [],
   "source": [
    "import numpy as np\n",
    "from scipy.optimize import minimize\n",
    "from scipy.optimize import fsolve"
   ]
  },
  {
   "cell_type": "markdown",
   "metadata": {},
   "source": [
    "# 1. Problem Specification"
   ]
  },
  {
   "cell_type": "markdown",
   "metadata": {},
   "source": [
    "Refer to Paper [\"Dynamic Optimization Itegrating Modifier Adaptation Using Transient Measurements\"](https://www.sciencedirect.com/science/article/pii/S0098135421000600) Section 5 \"Williams Otto reactor case study\""
   ]
  },
  {
   "cell_type": "markdown",
   "metadata": {},
   "source": [
    "## A. Static Plant\n",
    "\n",
    "A plant undergoes reactions:\n",
    "- There are 3 reactions\n",
    "- A,B are the reactants\n",
    "- C is a intermediate component\n",
    "- P is a desired product\n",
    "- E,G are the by-products"
   ]
  },
  {
   "cell_type": "code",
   "execution_count": 124,
   "metadata": {},
   "outputs": [],
   "source": [
    "def cstr_p(x,u):\n",
    "\n",
    "    #__Inputs__\n",
    "    F_B = u[0] # Flowrate of component B\n",
    "    T_r = u[1] # Temperature of the reactor\n",
    "\n",
    "    #__States__\n",
    "    X_A = x[0] # Concentration of component A\n",
    "    X_B = x[1]\n",
    "    X_C = x[2]\n",
    "    X_P = x[3]\n",
    "    X_E = x[4]\n",
    "    X_G = x[5]\n",
    "\n",
    "    #__Process Parameters__\n",
    "    k10 = 9.9594*10**6\n",
    "    k20 = 8.66124*10**9\n",
    "    k30 = 1.6047*10e13\n",
    "    Ea1 = 6666.7\n",
    "    Ea2 = 8333.3\n",
    "    Ea3 = 11111\n",
    "    X_A0 = 10\n",
    "    X_B0 = 10\n",
    "    V_R = 2105\n",
    "    F_A = 112.35\n",
    "    F_R = F_A + F_B\n",
    "\n",
    "    #__Reactions__\n",
    "    k1 = k10*np.exp(-Ea1/(T_r+273.15))\n",
    "    k2 = k20*np.exp(-Ea2/(T_r+273.15))\n",
    "    k3 = k30*np.exp(-Ea3/(T_r+273.15))\n",
    "\n",
    "    r1 = k1*X_A*X_B\n",
    "    r2 = k2*X_B*X_C\n",
    "    r3 = k3*X_P*X_C\n",
    "\n",
    "    #__Equations__\n",
    "    eq = np.zeros(6)\n",
    "    eq[0] = F_A*X_A0 - F_R*X_A - V_R*r1 \n",
    "    eq[1] = F_B*X_B0 - F_R*X_B - V_R*r1 - V_R*r2 \n",
    "    eq[2] = -F_R*X_C + V_R*r1 - V_R*r2 - V_R*r3\n",
    "    eq[3] = -F_R*X_P + V_R*r2 - V_R*r3\n",
    "    eq[4] = -F_R*X_E + V_R*r2\n",
    "    eq[5] = -F_R*X_G + V_R*r3\n",
    "\n",
    "    return eq"
   ]
  },
  {
   "cell_type": "markdown",
   "metadata": {},
   "source": [
    "## B. Plant Model\n",
    "\n",
    "The model have similar but not the same model:\n",
    "- There are 3 reactions\n",
    "- A,B are reactants\n",
    "- P is product \n",
    "- G is a byproduct\n",
    "- There is no intermidiate component C\n",
    "\n",
    "The model has parameters:\n",
    "- n is a model parameter for reaction rate constant coefficient\n",
    "- v is a model parameter for activation energy"
   ]
  },
  {
   "cell_type": "code",
   "execution_count": 125,
   "metadata": {},
   "outputs": [],
   "source": [
    "def cstr_m(x,u,theta):\n",
    "\n",
    "    #__Inputs__\n",
    "    F_B = u[0] # Flowrate of component B\n",
    "    T_r = u[1] # Temperature of the reactor\n",
    "\n",
    "    #__States__\n",
    "    X_A = x[0] # Concentration of component A\n",
    "    X_B = x[1]\n",
    "    X_P = x[2]\n",
    "    X_E = x[3]\n",
    "    X_G = x[4]\n",
    "\n",
    "    #__Hyperparameters__\n",
    "    n1 = theta[0]\n",
    "    n2 = theta[1]\n",
    "    v1 = theta[2]\n",
    "    v2 = theta[3]\n",
    "\n",
    "    #__Process Parameters__\n",
    "    X_A0 = 10\n",
    "    X_B0 = 10\n",
    "    V_R = 2105\n",
    "    F_A = 112.35\n",
    "    F_R = F_A + F_B\n",
    "\n",
    "    #__Reactions__\n",
    "    k1 = n1*np.exp(-v1/(T_r+273.15))\n",
    "    k2 = n2*np.exp(-v2/(T_r+273.15))\n",
    "\n",
    "    r1 = k1*X_A*X_B**2\n",
    "    r2 = k2*X_A*X_B*X_P\n",
    "\n",
    "    #__Equations__\n",
    "    eq = np.zeros(5)\n",
    "    eq[0] = F_A*X_A0 - F_R*X_A - V_R*r1 - V_R*r2\n",
    "    eq[1] = F_B*X_B0 - F_R*X_B - 2*V_R*r1 - V_R*r2 \n",
    "    eq[2] = -F_R*X_P + V_R*r1 - V_R*r2\n",
    "    eq[3] = -F_R*X_E + V_R*r1\n",
    "    eq[4] = -F_R*X_G + V_R*r2\n",
    "\n",
    "    return eq"
   ]
  },
  {
   "cell_type": "code",
   "execution_count": 126,
   "metadata": {},
   "outputs": [
    {
     "name": "stdout",
     "output_type": "stream",
     "text": [
      "The concetrations of components are: [4.99330771e+00 4.11657306e+00 2.92809515e-01 2.95147651e-01\n",
      " 2.33813582e-03]\n"
     ]
    }
   ],
   "source": [
    "# Sample Calculation\n",
    "x0 = [5,5,5,5,5] # Initial Guess\n",
    "u = np.array([100,30]) # Parameters F_B and T_r\n",
    "theta = np.array([1.3134e8,2.586e13,8077.6,12438.5]) # Hyperparameters k0 and Ea\n",
    "x = fsolve(cstr_m, x0, args=(u,theta),xtol=1e-6) # scipy fsolve to solve equations\n",
    "\n",
    "print(f\"The concetrations of components are: {x}\")"
   ]
  },
  {
   "cell_type": "markdown",
   "metadata": {},
   "source": [
    "## C. Cost Function \n",
    "\n",
    "The cost function is based on quantities that are on outlet of the CSTR. Therefore, the equations on CSTR are solved before we calculate the cost function. The equations on cstr are solved by scipy fsolve."
   ]
  },
  {
   "cell_type": "code",
   "execution_count": 127,
   "metadata": {},
   "outputs": [],
   "source": [
    "def cost_function(u,theta):\n",
    "       \n",
    "       #__Constants__\n",
    "       P_A = 7.623\n",
    "       P_B = 11.434\n",
    "       P_P = 114.338\n",
    "       P_E = 5.184\n",
    "       F_A = 112.35\n",
    "       X_A0 = 10\n",
    "       X_B0 = 10\n",
    "\n",
    "       #__Process Parameters__\n",
    "       F_B = u[0]\n",
    "       F_R = F_A + F_B\n",
    "       \n",
    "       #__Solve Equations on cstr.m__\n",
    "       x0 = [4,4,4,4,4]\n",
    "       x = fsolve(cstr_m, x0, args=(u,theta),xtol=1e-6)\n",
    "       X_P = x[2]\n",
    "       X_E = x[3]\n",
    "       \n",
    "       #__Calculate cost function__\n",
    "       cost = -(F_R*(X_P*P_P + X_E*P_E) - F_A*X_A0*P_A - F_B*X_B0*P_B) # -ve sign to maximize the cost function using scipy minimize\n",
    "       \n",
    "       return cost "
   ]
  },
  {
   "cell_type": "code",
   "execution_count": 128,
   "metadata": {},
   "outputs": [
    {
     "name": "stdout",
     "output_type": "stream",
     "text": [
      "cost: -11312.209156316734\n"
     ]
    }
   ],
   "source": [
    "# Sample Calculation\n",
    "u = np.array([292.24204707,78.408519])\n",
    "theta = np.array([1.3134*1e8,2.586*1e13,8077.6,12438.5])\n",
    "cost = cost_function(u,theta)\n",
    "print(f\"cost: {cost}\")"
   ]
  },
  {
   "cell_type": "markdown",
   "metadata": {},
   "source": [
    "# 2. Model-parameter Adaptation\n",
    "\n"
   ]
  },
  {
   "cell_type": "markdown",
   "metadata": {},
   "source": [
    "## A. Optimization on cost function\n",
    "\n",
    "Optimization is done with Simplex Method. Following is a sample calculation of optimization given certain parameters"
   ]
  },
  {
   "cell_type": "code",
   "execution_count": 129,
   "metadata": {},
   "outputs": [],
   "source": [
    "def cost_optimize(u0,theta):\n",
    "    cons = (\n",
    "        {'type': 'ineq', 'fun': lambda x: -(x[0]-1.2)},\n",
    "        {'type': 'ineq', 'fun': lambda x: -(x[4]-0.5)}\n",
    "    )\n",
    "\n",
    "    bnds = ((180,360),(75,100))\n",
    "\n",
    "    res = minimize(cost_function, u0, \n",
    "                method='nelder-mead', \n",
    "                bounds = bnds,\n",
    "                constraints= cons,\n",
    "                args=(theta))\n",
    "\n",
    "    return [res.x,res.fun]"
   ]
  },
  {
   "cell_type": "code",
   "execution_count": 130,
   "metadata": {},
   "outputs": [
    {
     "name": "stdout",
     "output_type": "stream",
     "text": [
      "optimal input: [292.24217012  78.40851052]\n",
      "optimal output: -11312.209156316618\n"
     ]
    }
   ],
   "source": [
    "# Sample Calculation\n",
    "u0 = np.array([350,82])\n",
    "theta = np.array([1.3134*1e8,2.586*1e13,8077.6,12438.5])\n",
    "optimal_input, optimal_output = cost_optimize(u0,theta)\n",
    "print(f\"optimal input: {optimal_input}\")\n",
    "print(f\"optimal output: {optimal_output}\")"
   ]
  },
  {
   "cell_type": "markdown",
   "metadata": {},
   "source": [
    "## B. Model Adaptation\n",
    "We try to minimize difference between output of an actual plant and output of a model. The difference is measured by root mean squared error, which is used for cost function to be minimized by simplex algorithm\n"
   ]
  },
  {
   "cell_type": "code",
   "execution_count": 131,
   "metadata": {},
   "outputs": [],
   "source": [
    "# root mean squared error bewteen actual plant and output of a model\n",
    "def difference(theta,u):\n",
    "    x0_p = [4,4,4,4,4,4]\n",
    "    x0 = [4,4,4,4,4]\n",
    "    x_p = fsolve(cstr_p, x0_p, args=(u), xtol=1e-6)\n",
    "    x = fsolve(cstr_m, x0, args=(u,theta), xtol=1e-6)\n",
    "\n",
    "    x_p = np.delete(x_p,2)\n",
    "    \n",
    "    squared_root_mean_error = np.sqrt(np.mean((x_p-x)**2))\n",
    "\n",
    "    return squared_root_mean_error\n",
    "\n",
    "\n",
    "\n",
    "# Input derived from optimization (maximization) of a cost function\n",
    "u = np.array([292.24217012, 78.40851052])\n",
    "\n",
    "def adaptation(theta0,u):\n",
    "    bnds = ((0, np.inf), (0, np.inf), (0, np.inf), (0, np.inf))\n",
    "    theta0 = np.array([1.3134e8, 2.586e13, 8077.6, 12438.5])  # Four elements in theta0\n",
    "\n",
    "    res = minimize(difference, theta0,\n",
    "                method='nelder-mead',\n",
    "                bounds=bnds,\n",
    "                args=(u))\n",
    "    \n",
    "    return res.x\n"
   ]
  },
  {
   "cell_type": "markdown",
   "metadata": {},
   "source": [
    "## C. Overall Algorithm\n",
    "\n",
    "NEED TO BE FIXED"
   ]
  },
  {
   "cell_type": "code",
   "execution_count": 132,
   "metadata": {},
   "outputs": [
    {
     "name": "stdout",
     "output_type": "stream",
     "text": [
      "[-11312.209156316618, 15760.091346683399, 16196.580779809436, 16196.580779809436, 16196.580779809436, 16196.580779809436, 16196.580779809436, 16196.580779809436, 16196.580779809436, 16196.580779809436]\n",
      "[180.  75.]\n",
      "[1.34086827e+08 2.65998670e+13 8.16656493e+03 1.17633548e+04]\n"
     ]
    }
   ],
   "source": [
    "# Initial Guess\n",
    "u = np.array([350,82])\n",
    "theta = np.array([1.3134*1e8,2.586*1e13,8077.6,12438.5])\n",
    "cost_list = [] # record the change in cost along the iterations\n",
    "for i in range(10):\n",
    "    \n",
    "    u,cost = cost_optimize(u,theta)\n",
    "    cost_list.append(cost)\n",
    "    theta = adaptation(theta,u)\n",
    "\n",
    "print(cost_list)\n",
    "print(u)\n",
    "print(theta)\n",
    "    \n",
    "    \n"
   ]
  }
 ],
 "metadata": {
  "kernelspec": {
   "display_name": "Python 3 (ipykernel)",
   "language": "python",
   "name": "python3"
  },
  "language_info": {
   "codemirror_mode": {
    "name": "ipython",
    "version": 3
   },
   "file_extension": ".py",
   "mimetype": "text/x-python",
   "name": "python",
   "nbconvert_exporter": "python",
   "pygments_lexer": "ipython3",
   "version": "3.11.3"
  }
 },
 "nbformat": 4,
 "nbformat_minor": 2
}
