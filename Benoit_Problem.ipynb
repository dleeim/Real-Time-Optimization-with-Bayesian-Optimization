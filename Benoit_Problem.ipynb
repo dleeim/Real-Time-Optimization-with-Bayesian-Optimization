{
 "cells": [
  {
   "cell_type": "markdown",
   "metadata": {},
   "source": [
    "# Benoit's Problem with various RTO Algorithms"
   ]
  },
  {
   "cell_type": "code",
   "execution_count": 29,
   "metadata": {},
   "outputs": [],
   "source": [
    "import numpy as np\n",
    "from scipy.optimize import minimize\n",
    "from scipy.optimize import approx_fprime"
   ]
  },
  {
   "cell_type": "markdown",
   "metadata": {},
   "source": [
    "# Benoit Model (Modified Version) for Real Time Optimization without constraint"
   ]
  },
  {
   "cell_type": "code",
   "execution_count": 30,
   "metadata": {},
   "outputs": [],
   "source": [
    "# Plant Model \n",
    "def Benoit_Model(u,theta):\n",
    "    f = theta[0] * u[0] ** 2 + theta[1] * u[1] ** 2\n",
    "    return f\n",
    "\n",
    "\n",
    "def con1_model(u,theta):\n",
    "    g1 = 1. - theta[2]*u[0] + theta[3]*u[1] ** 2\n",
    "    return -g1\n",
    "\n",
    "# Actual Plant System\n",
    "def Benoit_System_1(u):\n",
    "    f = u[0] ** 2 + u[1] ** 2 + u[0] * u[1] + np.random.normal(0., np.sqrt(1e-3))\n",
    "    return f\n",
    "\n",
    "def Benoit_System_2(u):\n",
    "    f = u[0] ** 2 + u[1] ** 2 + (1 - u[0] * u[1])**2 + np.random.normal(0., np.sqrt(1e-3))\n",
    "    return f\n",
    "\n",
    "\n",
    "def con1_system(u):\n",
    "    g1 = 1. - u[0] + u[1] ** 2 + 2. * u[1] - 2. + np.random.normal(0., np.sqrt(1e-3))\n",
    "    return -g1\n",
    "\n",
    "\n",
    "def con1_system_tight(u):\n",
    "    g1 = 1. - u[0] + u[1] ** 2 + 2. * u[1] + np.random.normal(0., np.sqrt(1e-3))\n",
    "    return -g1\n",
    "\n",
    "\n",
    "def Benoit_System_noiseless_1(u):\n",
    "    f = u[0] ** 2 + u[1] ** 2 + u[0] * u[1]  # + np.random.normal(0., np.sqrt(1e-3))\n",
    "    return f\n",
    "\n",
    "def Benoit_System_noiseless_2(u):\n",
    "    f = u[0] ** 2 + u[1] ** 2 + (1 - u[0] * u[1])**2  # + np.random.normal(0., np.sqrt(1e-3))\n",
    "    return f\n",
    "\n",
    "\n",
    "def con1_system_noiseless(u):\n",
    "    g1 = 1. - u[0] + u[1] ** 2 + 2. * u[1] - 2.  # + np.random.normal(0., np.sqrt(1e-3))\n",
    "    return -g1\n",
    "\n",
    "\n",
    "def con1_system_tight_noiseless(u):\n",
    "    g1 = 1. - u[0] + u[1] ** 2 + 2. * u[1]  # + np.random.normal(0., np.sqrt(1e-3))\n",
    "    return -g1\n"
   ]
  },
  {
   "cell_type": "markdown",
   "metadata": {},
   "source": [
    "# 1. Model Adaptation"
   ]
  },
  {
   "cell_type": "markdown",
   "metadata": {},
   "source": [
    "## A. Optimization on cost function\n",
    "\n",
    "Optimization algorithm on cost function to find optimized input u given parameter"
   ]
  },
  {
   "cell_type": "code",
   "execution_count": 31,
   "metadata": {},
   "outputs": [],
   "source": [
    "# Optimization on cost function\n",
    "def cost_optimize(theta,u0):\n",
    "    con = ({'type': 'ineq', \n",
    "            'fun': lambda u: con1_model(u,theta)}) \n",
    "    result = minimize(Benoit_Model,\n",
    "                    u0,\n",
    "                    constraints= con,\n",
    "                    method='SLSQP',\n",
    "                    options={'ftol': 1e-9},\n",
    "                    args= (theta))\n",
    "\n",
    "    return result.x,result.fun"
   ]
  },
  {
   "cell_type": "code",
   "execution_count": 32,
   "metadata": {},
   "outputs": [
    {
     "name": "stdout",
     "output_type": "stream",
     "text": [
      "optimal input: [ 4.00000000e+00 -3.29554324e-08], optimal output: 7.999999999980859\n"
     ]
    }
   ],
   "source": [
    "# Test\n",
    "u0 = [1,1] # Initial guess for optimization algorithm\n",
    "theta = [0.5,0.5,0.5,0.5]\n",
    "u,fun = cost_optimize(theta,u0)\n",
    "print(f\"optimal input: {u}, optimal output: {fun}\")\n"
   ]
  },
  {
   "cell_type": "markdown",
   "metadata": {},
   "source": [
    "## B. Model Adaptation\n",
    "\n",
    "We try to minimize difference between output of an actual plant and output of a model. \n",
    "\n",
    "The difference is measured by SSE (Sum of Squared Error), which is used for cost function to be minimized"
   ]
  },
  {
   "cell_type": "code",
   "execution_count": 33,
   "metadata": {},
   "outputs": [],
   "source": [
    "# cost function of adaptation\n",
    "def SSE(theta,u,plant_func,plant_constraint):\n",
    "\n",
    "    func_diff = plant_func(u) - Benoit_Model(u,theta)\n",
    "    con_diff = plant_constraint(u) - con1_model(u,theta)\n",
    "\n",
    "    return func_diff**2+con_diff**2\n",
    "\n",
    "# Model Adaptation (Optimization of Parameters)\n",
    "def SSE_optimize(plant_func,plant_constraint,theta0,u):\n",
    "\n",
    "    result = minimize(SSE,\n",
    "                      theta0,\n",
    "                      method='SLSQP',\n",
    "                      args= (u,plant_func,plant_constraint),\n",
    "                      options= {'ftol': 1e-9})\n",
    "    \n",
    "    return result.x,result.fun\n"
   ]
  },
  {
   "cell_type": "code",
   "execution_count": 34,
   "metadata": {},
   "outputs": [
    {
     "name": "stdout",
     "output_type": "stream",
     "text": [
      "cost function:13.0\n",
      "------------\n",
      "optimal hyperparameters:[0.99999999 0.5        1.99999999 0.5       ],\n",
      "optimal function: 1.1172258988382782e-15\n"
     ]
    }
   ],
   "source": [
    "# test for adaptation cost function\n",
    "x = SSE(theta = [0.5,0.5,0.5,0.5],\n",
    "        u = [2,0],\n",
    "        plant_func = Benoit_System_noiseless_1,\n",
    "        plant_constraint =con1_system_noiseless)\n",
    "\n",
    "print(f\"cost function:{x}\")\n",
    "print(\"------------\")\n",
    "\n",
    "# test for model adaptation method\n",
    "theta,fun = SSE_optimize(plant_func=Benoit_System_noiseless_1,\n",
    "                     plant_constraint=con1_system_noiseless,\n",
    "                     theta0=[0.5,0.5,0.5,0.5],\n",
    "                     u=[2,0])\n",
    "\n",
    "print(f\"optimal hyperparameters:{theta},\\noptimal function: {fun}\")\n",
    "\n"
   ]
  },
  {
   "cell_type": "markdown",
   "metadata": {},
   "source": [
    "## C. Overall Algorithm\n",
    "\n",
    "### I. Model Adaptation on \"Benoit_System_noiseless_1\" plant system with \"con1_system_noiseless\" constraint"
   ]
  },
  {
   "cell_type": "code",
   "execution_count": 35,
   "metadata": {},
   "outputs": [
    {
     "name": "stdout",
     "output_type": "stream",
     "text": [
      "optimal input: [ 4.00000000e+00 -3.29554324e-08], optimal output: 7.999999999980859\n",
      "optimal hyperparameters:[0.99999998 0.5        1.50000001 0.5       ], cost: 1.5727754259905706e-14\n",
      "optimal input: [ 1.33333332e+00 -3.45879808e-07], optimal output: 1.7777777203419192\n",
      "optimal hyperparameters:[0.99999954 0.5        2.50000053 0.5       ], cost: 1.3285434674341004e-13\n",
      "optimal input: [ 7.99999830e-01 -1.92099932e-07], optimal output: 0.6399994309844345\n",
      "optimal hyperparameters:[0.99999974 0.5        3.500001   0.5       ], cost: 2.280910296758929e-16\n",
      "optimal input: [ 5.71428408e-01 -3.08785290e-08], optimal output: 0.3265303398567099\n",
      "optimal hyperparameters:[0.99999983 0.5        4.50000109 0.5       ], cost: 1.5295708401470793e-15\n",
      "optimal input: [ 4.44444337e-01 -8.49722276e-09], optimal output: 0.19753073527222617\n",
      "optimal hyperparameters:[0.99999987 0.5        5.50000112 0.5       ], cost: 5.342817281437912e-16\n"
     ]
    }
   ],
   "source": [
    "# Initial Guess (k=0)\n",
    "uk = [1,1]\n",
    "thetak = [0.5,0.5,0.5,0.5]\n",
    "\n",
    "# dictionary: uk_1, fun, thetak_1, cost, \n",
    "\n",
    "for i in range(5):\n",
    "\n",
    "\n",
    "    # Model Optimization\n",
    "    uk_1,fun = cost_optimize(theta=thetak,u0=uk)\n",
    "    print(f\"optimal input: {uk_1}, optimal output: {fun}\")\n",
    "    \n",
    "    # Model Adaptation\n",
    "    thetak_1,cost = SSE_optimize(plant_func=Benoit_System_noiseless_1,\n",
    "                        plant_constraint=con1_system_noiseless,\n",
    "                        theta0=thetak,\n",
    "                        u=uk_1)\n",
    "    print(f\"optimal hyperparameters:{thetak_1}, cost: {cost}\")\n",
    "\n",
    "    uk = uk_1\n",
    "    thetak = thetak_1\n",
    "\n",
    "\n"
   ]
  },
  {
   "cell_type": "markdown",
   "metadata": {},
   "source": [
    "### Actual Optimized Input and Output"
   ]
  },
  {
   "cell_type": "code",
   "execution_count": 36,
   "metadata": {},
   "outputs": [
    {
     "name": "stdout",
     "output_type": "stream",
     "text": [
      "optimal input: [0. 0.], optimal output: 0.0\n"
     ]
    }
   ],
   "source": [
    "u0 = [1,1] \n",
    "con = ({'type': 'ineq', \n",
    "        'fun': lambda u: con1_system_noiseless(u)}) \n",
    "result = minimize(Benoit_System_noiseless_1,\n",
    "                u0,\n",
    "                constraints= con,\n",
    "                method='SLSQP',\n",
    "                options={'ftol': 1e-9})\n",
    "\n",
    "u = result.x\n",
    "fun = result.fun\n",
    "\n",
    "print(f\"optimal input: {u}, optimal output: {fun}\")"
   ]
  },
  {
   "cell_type": "markdown",
   "metadata": {},
   "source": [
    "### Result Analysis\n",
    "\n",
    "Notice that actual optimal input is [0,0] while the optimal input from model adaption converges to the model. However, the convergence is done with wrong hyperparameters especially on constraint con1_system_noiseless; notice constant increase in theta[2] (=47 at the last iteration). \n",
    "\n",
    "Moreover, the hyperparameters theta[1], theta[3] (=0.5,0.5) does not change because intermidiate optimal inputs have u[1] = 0 always. If the initial values were [0.1,0.1,0.1,0.1] then theta[1], theta[3] = 0.1 always. This makes hyperparameter to not get changed in model adaptation step."
   ]
  },
  {
   "cell_type": "markdown",
   "metadata": {},
   "source": [
    "### II. Model Adaptation on \"Benoit_System_noiseless_1\" plant system with \"con1_system_tight_noiseless\" constraint"
   ]
  },
  {
   "cell_type": "code",
   "execution_count": 37,
   "metadata": {},
   "outputs": [
    {
     "name": "stdout",
     "output_type": "stream",
     "text": [
      "optimal input: [ 4.00000000e+00 -3.29554324e-08], optimal output: 7.999999999980859\n",
      "optimal hyperparameters:[0.99999999 0.5        1.00000001 0.5       ], cost: 6.005331388506965e-15\n",
      "optimal input: [ 1.99999997e+00 -5.99199530e-07], optimal output: 3.9999998408278277\n",
      "optimal hyperparameters:[0.99999999 0.5        1.00000001 0.5       ], cost: 2.6867529293183906e-12\n",
      "optimal input: [ 1.99999997e+00 -5.99199530e-07], optimal output: 3.9999998408278277\n",
      "optimal hyperparameters:[0.99999999 0.5        1.00000001 0.5       ], cost: 2.6867529293183906e-12\n",
      "optimal input: [ 1.99999997e+00 -5.99199530e-07], optimal output: 3.9999998408278277\n",
      "optimal hyperparameters:[0.99999999 0.5        1.00000001 0.5       ], cost: 2.6867529293183906e-12\n",
      "optimal input: [ 1.99999997e+00 -5.99199530e-07], optimal output: 3.9999998408278277\n",
      "optimal hyperparameters:[0.99999999 0.5        1.00000001 0.5       ], cost: 2.6867529293183906e-12\n"
     ]
    }
   ],
   "source": [
    "# Initial Guess (k=0)\n",
    "uk = [1,1]\n",
    "thetak = [0.5,0.5,0.5,0.5]\n",
    "\n",
    "# dictionary: uk_1, fun, thetak_1, cost, \n",
    "\n",
    "for i in range(5):\n",
    "\n",
    "\n",
    "    # Model Optimization\n",
    "    uk_1,fun = cost_optimize(theta=thetak,u0=uk)\n",
    "    print(f\"optimal input: {uk_1}, optimal output: {fun}\")\n",
    "    \n",
    "    # Model Adaptation\n",
    "    thetak_1,cost = SSE_optimize(plant_func=Benoit_System_noiseless_1,\n",
    "                        plant_constraint=con1_system_tight_noiseless,\n",
    "                        theta0=thetak,\n",
    "                        u=uk_1)\n",
    "    print(f\"optimal hyperparameters:{thetak_1}, cost: {cost}\")\n",
    "\n",
    "    uk = uk_1\n",
    "    thetak = thetak_1"
   ]
  },
  {
   "cell_type": "markdown",
   "metadata": {},
   "source": [
    "### Actual Optimized Input and Output"
   ]
  },
  {
   "cell_type": "code",
   "execution_count": 38,
   "metadata": {},
   "outputs": [
    {
     "name": "stdout",
     "output_type": "stream",
     "text": [
      "optimal input: [ 0.3684571  -0.39299332], optimal output: 0.14540320807022292\n"
     ]
    }
   ],
   "source": [
    "u0 = [1,1] \n",
    "con = ({'type': 'ineq', \n",
    "        'fun': lambda u: con1_system_tight_noiseless(u)}) \n",
    "result = minimize(Benoit_System_noiseless_1,\n",
    "                u0,\n",
    "                constraints= con,\n",
    "                method='SLSQP',\n",
    "                options={'ftol': 1e-9})\n",
    "\n",
    "u = result.x\n",
    "fun = result.fun\n",
    "\n",
    "print(f\"optimal input: {u}, optimal output: {fun}\")"
   ]
  },
  {
   "cell_type": "markdown",
   "metadata": {},
   "source": [
    "### Result Analysis\n",
    "\n",
    "TO BE WRITTEN:\n",
    "\n",
    "The result seems to show the lack of model flexibility, which prevents the optimal input from model to conver to actual optimal input. \n",
    "\n",
    "OR \n",
    "\n",
    "maybe due to that my code is not working"
   ]
  },
  {
   "cell_type": "markdown",
   "metadata": {},
   "source": [
    "# 2. Modifier Adaptation"
   ]
  },
  {
   "cell_type": "markdown",
   "metadata": {},
   "source": [
    "## A. Modifier"
   ]
  },
  {
   "cell_type": "code",
   "execution_count": 39,
   "metadata": {},
   "outputs": [],
   "source": [
    "# bias modifier\n",
    "def bias_modifier(u):\n",
    "    epsil = Benoit_System_noiseless_1(u) - Benoit_Model(u,theta)\n",
    "    return epsil\n",
    "\n",
    "# gradient modifier\n",
    "def gradient_modifier(u,du,func):\n",
    "    \n",
    "    # Predicted gradient from real plant\n",
    "    gradient_p_u0 = (func(u+[du,0]) - func(u))/du\n",
    "    gradient_p_u1 = (func(u+[0,du]) - func(u))/du\n",
    "    gradient_p = [gradient_p_u0,gradient_p_u1]\n",
    "\n",
    "    # Gradient from model plant\n",
    "    gradient_m = approx_fprime(u,Benoit_Model,epsilon=1e-6,args=(theta))\n",
    "    \n",
    "    # Difference between gradient of a plant and gradient of a plant model\n",
    "    lamda = [gradient_p - gradient_m]\n",
    "    return lamda"
   ]
  },
  {
   "cell_type": "markdown",
   "metadata": {},
   "source": [
    "## B. Optimization on Cost Function"
   ]
  },
  {
   "cell_type": "code",
   "execution_count": 40,
   "metadata": {},
   "outputs": [],
   "source": [
    "# YET TO BE MODIFIED\n",
    "\n",
    "# Optimization on cost function\n",
    "def cost_optimize(theta,u0):\n",
    "    con = ({'type': 'ineq', \n",
    "            'fun': lambda u: con1_model(u,theta)}) \n",
    "    result = minimize(Benoit_Model,\n",
    "                    u0,\n",
    "                    constraints= con,\n",
    "                    method='SLSQP',\n",
    "                    options={'ftol': 1e-9},\n",
    "                    args= (theta))\n",
    "\n",
    "    return result.x,result.fun"
   ]
  }
 ],
 "metadata": {
  "kernelspec": {
   "display_name": "Python 3 (ipykernel)",
   "language": "python",
   "name": "python3"
  },
  "language_info": {
   "codemirror_mode": {
    "name": "ipython",
    "version": 3
   },
   "file_extension": ".py",
   "mimetype": "text/x-python",
   "name": "python",
   "nbconvert_exporter": "python",
   "pygments_lexer": "ipython3",
   "version": "3.11.5"
  }
 },
 "nbformat": 4,
 "nbformat_minor": 2
}
